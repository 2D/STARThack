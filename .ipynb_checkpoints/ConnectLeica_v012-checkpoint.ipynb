{
 "cells": [
  {
   "cell_type": "markdown",
   "metadata": {},
   "source": [
    "[Running a notebook server](https://jupyter-notebook.readthedocs.io/en/stable/public_server.html)\n",
    "https://jupyter-client.readthedocs.io/en/stable/messaging.html\n",
    "https://realpython.com/python-sockets/\n"
   ]
  },
  {
   "cell_type": "code",
   "execution_count": 22,
   "metadata": {},
   "outputs": [
    {
     "name": "stdout",
     "output_type": "stream",
     "text": [
      "timed out\n"
     ]
    }
   ],
   "source": [
    "import socket\n",
    "TCP_IP = '192.168.254.3'\n",
    "TCP_PORT = 1212\n",
    "buffer_size = 1024\n",
    "\n",
    "message = bytes('%R1Q,9081:0,150.0,200.0', 'utf-8')\n",
    "\n",
    "\n",
    "s = socket.socket(socket.AF_INET, socket.SOCK_STREAM)\n",
    "s.settimeout(10)\n",
    "try:\n",
    "    s.connect((TCP_IP, TCP_PORT))\n",
    "    s.send(message)\n",
    "    data = s.recv(buffer_size)\n",
    "    s.close()\n",
    "    print (\"received data:\", data)\n",
    "except socket.timeout as e:\n",
    "    print (e)"
   ]
  },
  {
   "cell_type": "code",
   "execution_count": 29,
   "metadata": {},
   "outputs": [
    {
     "name": "stdout",
     "output_type": "stream",
     "text": [
      "is down!\n"
     ]
    }
   ],
   "source": [
    "import os\n",
    "response = os.system(\"ping -c 1 192.168.254.3\")\n",
    "if response == 0:\n",
    "  print ('is up!')\n",
    "else:\n",
    "  print ('is down!')"
   ]
  },
  {
   "cell_type": "code",
   "execution_count": 28,
   "metadata": {},
   "outputs": [
    {
     "name": "stdout",
     "output_type": "stream",
     "text": [
      "exception\n"
     ]
    }
   ],
   "source": [
    "import getpass\n",
    "import telnetlib\n",
    "\n",
    "HOST = \"192.168.254.3\"\n",
    "\n",
    "tn = telnetlib.Telnet(HOST,1212,timeout=1)\n",
    "\n",
    "try:\n",
    "    tn.write(\"%R1Q,9081:0,150.0,200.0\\n\")\n",
    "    print (tn.read_all())\n",
    "except:\n",
    "    print (\"exception\")"
   ]
  },
  {
   "cell_type": "code",
   "execution_count": null,
   "metadata": {},
   "outputs": [],
   "source": []
  },
  {
   "cell_type": "code",
   "execution_count": null,
   "metadata": {},
   "outputs": [],
   "source": []
  },
  {
   "cell_type": "code",
   "execution_count": 20,
   "metadata": {},
   "outputs": [
    {
     "ename": "TypeError",
     "evalue": "bind() takes exactly one argument (2 given)",
     "output_type": "error",
     "traceback": [
      "\u001b[1;31m---------------------------------------------------------------------------\u001b[0m",
      "\u001b[1;31mTypeError\u001b[0m                                 Traceback (most recent call last)",
      "\u001b[1;32m<ipython-input-20-77ae36275d0d>\u001b[0m in \u001b[0;36m<module>\u001b[1;34m()\u001b[0m\n\u001b[0;32m      7\u001b[0m \u001b[1;33m\u001b[0m\u001b[0m\n\u001b[0;32m      8\u001b[0m \u001b[1;32mwith\u001b[0m \u001b[0msocket\u001b[0m\u001b[1;33m.\u001b[0m\u001b[0msocket\u001b[0m\u001b[1;33m(\u001b[0m\u001b[0msocket\u001b[0m\u001b[1;33m.\u001b[0m\u001b[0mAF_INET\u001b[0m\u001b[1;33m,\u001b[0m \u001b[0msocket\u001b[0m\u001b[1;33m.\u001b[0m\u001b[0mSOCK_STREAM\u001b[0m\u001b[1;33m)\u001b[0m \u001b[1;32mas\u001b[0m \u001b[0ms\u001b[0m\u001b[1;33m:\u001b[0m\u001b[1;33m\u001b[0m\u001b[0m\n\u001b[1;32m----> 9\u001b[1;33m     \u001b[0ms\u001b[0m\u001b[1;33m.\u001b[0m\u001b[0mbind\u001b[0m\u001b[1;33m(\u001b[0m\u001b[0mHOST\u001b[0m\u001b[1;33m,\u001b[0m \u001b[0mPORT\u001b[0m\u001b[1;33m)\u001b[0m\u001b[1;33m\u001b[0m\u001b[0m\n\u001b[0m\u001b[0;32m     10\u001b[0m     \u001b[0ms\u001b[0m\u001b[1;33m.\u001b[0m\u001b[0mlisten\u001b[0m\u001b[1;33m(\u001b[0m\u001b[1;33m)\u001b[0m\u001b[1;33m\u001b[0m\u001b[0m\n\u001b[0;32m     11\u001b[0m     \u001b[0mconn\u001b[0m\u001b[1;33m,\u001b[0m \u001b[0maddr\u001b[0m \u001b[1;33m=\u001b[0m \u001b[0ms\u001b[0m\u001b[1;33m.\u001b[0m\u001b[0maccept\u001b[0m\u001b[1;33m(\u001b[0m\u001b[1;33m)\u001b[0m\u001b[1;33m\u001b[0m\u001b[0m\n",
      "\u001b[1;31mTypeError\u001b[0m: bind() takes exactly one argument (2 given)"
     ]
    }
   ],
   "source": [
    "#!/usr/bin/env python3\n",
    "\n",
    "import socket\n",
    "\n",
    "HOST = '192.168.254.3'  # Standard loopback interface address (localhost)\n",
    "PORT = 1212        # Port to listen on (non-privileged ports are > 1023)\n",
    "\n",
    "with socket.socket(socket.AF_INET, socket.SOCK_STREAM) as s:\n",
    "    s.bind(HOST, PORT)\n",
    "    s.listen()\n",
    "    conn, addr = s.accept()\n",
    "    with conn:\n",
    "        print('Connected by', addr)\n",
    "        while True:\n",
    "            data = conn.recv(1024)\n",
    "            if not data:\n",
    "                break\n",
    "            conn.sendall(data)"
   ]
  },
  {
   "cell_type": "code",
   "execution_count": 32,
   "metadata": {},
   "outputs": [
    {
     "name": "stdout",
     "output_type": "stream",
     "text": [
      "192.168.2.1\n",
      "\n",
      "Ping wird ausgef�hrt f�r 192.168.2.1 mit 32 Bytes Daten:\n",
      "Antwort von 130.59.38.109: Zielnetz nicht erreichbar.\n",
      "\n",
      "Ping-Statistik f�r 192.168.2.1:\n",
      "    Pakete: Gesendet = 1, Empfangen = 1, Verloren = 0\n",
      "    (0% Verlust),\n",
      "192.168.2.2\n",
      "\n",
      "Ping wird ausgef�hrt f�r 192.168.2.2 mit 32 Bytes Daten:\n",
      "Antwort von 130.59.38.109: Zielnetz nicht erreichbar.\n",
      "\n",
      "Ping-Statistik f�r 192.168.2.2:\n",
      "    Pakete: Gesendet = 1, Empfangen = 1, Verloren = 0\n",
      "    (0% Verlust),\n",
      "192.168.2.3\n",
      "\n",
      "Ping wird ausgef�hrt f�r 192.168.2.3 mit 32 Bytes Daten:\n",
      "Zeit�berschreitung der Anforderung.\n",
      "\n",
      "Ping-Statistik f�r 192.168.2.3:\n",
      "    Pakete: Gesendet = 1, Empfangen = 0, Verloren = 1\n",
      "    (100% Verlust),\n",
      "192.168.2.4\n",
      "\n",
      "Ping wird ausgef�hrt f�r 192.168.2.4 mit 32 Bytes Daten:\n",
      "Antwort von 130.59.38.109: Zielnetz nicht erreichbar.\n",
      "\n",
      "Ping-Statistik f�r 192.168.2.4:\n",
      "    Pakete: Gesendet = 1, Empfangen = 1, Verloren = 0\n",
      "    (0% Verlust),\n",
      "192.168.2.5\n",
      "\n",
      "Ping wird ausgef�hrt f�r 192.168.2.5 mit 32 Bytes Daten:\n",
      "Antwort von 130.59.38.109: Zielnetz nicht erreichbar.\n",
      "\n",
      "Ping-Statistik f�r 192.168.2.5:\n",
      "    Pakete: Gesendet = 1, Empfangen = 1, Verloren = 0\n",
      "    (0% Verlust),\n",
      "192.168.2.6\n",
      "\n",
      "Ping wird ausgef�hrt f�r 192.168.2.6 mit 32 Bytes Daten:\n",
      "Antwort von 130.59.38.109: Zielnetz nicht erreichbar.\n",
      "\n",
      "Ping-Statistik f�r 192.168.2.6:\n",
      "    Pakete: Gesendet = 1, Empfangen = 1, Verloren = 0\n",
      "    (0% Verlust),\n",
      "192.168.2.7\n",
      "\n",
      "Ping wird ausgef�hrt f�r 192.168.2.7 mit 32 Bytes Daten:\n",
      "Antwort von 130.59.38.109: Zielnetz nicht erreichbar.\n",
      "\n",
      "Ping-Statistik f�r 192.168.2.7:\n",
      "    Pakete: Gesendet = 1, Empfangen = 1, Verloren = 0\n",
      "    (0% Verlust),\n",
      "192.168.2.8\n",
      "\n",
      "Ping wird ausgef�hrt f�r 192.168.2.8 mit 32 Bytes Daten:\n",
      "Antwort von 130.59.38.109: Zielnetz nicht erreichbar.\n",
      "\n",
      "Ping-Statistik f�r 192.168.2.8:\n",
      "    Pakete: Gesendet = 1, Empfangen = 1, Verloren = 0\n",
      "    (0% Verlust),\n",
      "192.168.2.9\n",
      "\n",
      "Ping wird ausgef�hrt f�r 192.168.2.9 mit 32 Bytes Daten:\n",
      "Antwort von 130.59.38.109: Zielnetz nicht erreichbar.\n",
      "\n",
      "Ping-Statistik f�r 192.168.2.9:\n",
      "    Pakete: Gesendet = 1, Empfangen = 1, Verloren = 0\n",
      "    (0% Verlust),\n"
     ]
    }
   ],
   "source": [
    "import os\n",
    "for i in range (1,10):\n",
    "    n= \"192.168.2.\"+str(i)\n",
    "    print (n)\n",
    "    ! ping -n 1 $n"
   ]
  },
  {
   "cell_type": "code",
   "execution_count": 35,
   "metadata": {},
   "outputs": [
    {
     "name": "stdout",
     "output_type": "stream",
     "text": [
      "\n",
      "Ping wird ausgef�hrt f�r 192.168.254.3 mit 32 Bytes Daten:\n",
      "Antwort von 192.168.254.3: Bytes=32 Zeit=1ms TTL=128\n",
      "Antwort von 192.168.254.3: Bytes=32 Zeit<1ms TTL=128\n",
      "Antwort von 192.168.254.3: Bytes=32 Zeit=1ms TTL=128\n",
      "Antwort von 192.168.254.3: Bytes=32 Zeit=1ms TTL=128\n",
      "\n",
      "Ping-Statistik f�r 192.168.254.3:\n",
      "    Pakete: Gesendet = 4, Empfangen = 4, Verloren = 0\n",
      "    (0% Verlust),\n",
      "Ca. Zeitangaben in Millisek.:\n",
      "    Minimum = 0ms, Maximum = 1ms, Mittelwert = 0ms\n"
     ]
    }
   ],
   "source": [
    "import os\n",
    "ip= \"192.168.254.3\"\n",
    "! ping -ip 1 $ip\n",
    "\n",
    "port = 1212\n",
    "\n",
    "tcp_socket = \"\"\n",
    "\n",
    "AUT_CAM_PositToPixelCoord = '%R1Q,9081:0,150.0,200.0'"
   ]
  },
  {
   "cell_type": "markdown",
   "metadata": {},
   "source": [
    "![diagram](https://files.realpython.com/media/sockets-tcp-flow.1da426797e37.jpg)\n",
    "\n",
    "https://realpython.com/python-sockets/"
   ]
  },
  {
   "cell_type": "code",
   "execution_count": 78,
   "metadata": {},
   "outputs": [
    {
     "name": "stdout",
     "output_type": "stream",
     "text": [
      "\n",
      "Ping wird ausgef�hrt f�r 192.168.254.3 mit 32 Bytes Daten:\n",
      "Antwort von 192.168.254.3: Bytes=32 Zeit=1ms TTL=128\n",
      "Antwort von 192.168.254.3: Bytes=32 Zeit=1ms TTL=128\n",
      "Antwort von 192.168.254.3: Bytes=32 Zeit=1ms TTL=128\n",
      "Antwort von 192.168.254.3: Bytes=32 Zeit<1ms TTL=128\n",
      "\n",
      "Ping-Statistik f�r 192.168.254.3:\n",
      "    Pakete: Gesendet = 4, Empfangen = 4, Verloren = 0\n",
      "    (0% Verlust),\n",
      "Ca. Zeitangaben in Millisek.:\n",
      "    Minimum = 0ms, Maximum = 1ms, Mittelwert = 0ms\n"
     ]
    }
   ],
   "source": [
    "import socket\n",
    "import os\n",
    "\n",
    "#Ping 192.168.254.3 to check connection\n",
    "ip= '192.168.254.3'\n",
    "! ping -ip 1 $ip\n"
   ]
  },
  {
   "cell_type": "code",
   "execution_count": 80,
   "metadata": {},
   "outputs": [
    {
     "name": "stdout",
     "output_type": "stream",
     "text": [
      "\n",
      "Ping wird ausgef�hrt f�r 192.168.254.3 mit 32 Bytes Daten:\n",
      "Antwort von 192.168.254.3: Bytes=32 Zeit=1ms TTL=128\n",
      "Antwort von 192.168.254.3: Bytes=32 Zeit=1ms TTL=128\n",
      "Antwort von 192.168.254.3: Bytes=32 Zeit=1ms TTL=128\n",
      "Antwort von 192.168.254.3: Bytes=32 Zeit=1ms TTL=128\n",
      "\n",
      "Ping-Statistik f�r 192.168.254.3:\n",
      "    Pakete: Gesendet = 4, Empfangen = 4, Verloren = 0\n",
      "    (0% Verlust),\n",
      "Ca. Zeitangaben in Millisek.:\n",
      "    Minimum = 1ms, Maximum = 1ms, Mittelwert = 1ms\n",
      "success\n"
     ]
    }
   ],
   "source": [
    "import socket\n",
    "import os\n",
    "\n",
    "#Ping 192.168.254.3 to check connection\n",
    "ip= '192.168.254.3'\n",
    "! ping -ip 1 $ip\n",
    "\n",
    "\n",
    "#Connect to port 192.168.254.3:1212\n",
    "TCP_IP = '192.168.254.3'\n",
    "TCP_PORT = 1212\n",
    "buffer_size = 1024\n",
    "\n",
    "s = socket.socket(socket.AF_INET, socket.SOCK_STREAM)\n",
    "s.settimeout(1)\n",
    "try:\n",
    "    s.connect((TCP_IP, TCP_PORT))\n",
    "    s.close()\n",
    "    print ('success')\n",
    "except socket.timeout as e:\n",
    "    print (e)"
   ]
  },
  {
   "cell_type": "code",
   "execution_count": 81,
   "metadata": {},
   "outputs": [
    {
     "name": "stdout",
     "output_type": "stream",
     "text": [
      "\n",
      "Ping wird ausgef�hrt f�r 192.168.254.3 mit 32 Bytes Daten:\n",
      "Antwort von 192.168.254.3: Bytes=32 Zeit=1ms TTL=128\n",
      "Antwort von 192.168.254.3: Bytes=32 Zeit=1ms TTL=128\n",
      "Antwort von 192.168.254.3: Bytes=32 Zeit=1ms TTL=128\n",
      "Antwort von 192.168.254.3: Bytes=32 Zeit=1ms TTL=128\n",
      "\n",
      "Ping-Statistik f�r 192.168.254.3:\n",
      "    Pakete: Gesendet = 4, Empfangen = 4, Verloren = 0\n",
      "    (0% Verlust),\n",
      "Ca. Zeitangaben in Millisek.:\n",
      "    Minimum = 1ms, Maximum = 1ms, Mittelwert = 1ms\n",
      "success\n"
     ]
    }
   ],
   "source": [
    "import socket\n",
    "import os\n",
    "\n",
    "#Ping 192.168.254.3 to check connection\n",
    "ip= '192.168.254.3'\n",
    "! ping -ip 1 $ip\n",
    "\n",
    "\n",
    "#Connect to port 192.168.254.3:1212\n",
    "TCP_IP = '192.168.254.3'\n",
    "TCP_PORT = 1212\n",
    "buffer_size = 1024\n",
    "\n",
    "s = socket.socket(socket.AF_INET, socket.SOCK_STREAM)\n",
    "s.settimeout(1)\n",
    "try:\n",
    "    s.connect((TCP_IP, TCP_PORT))\n",
    "    s.close()\n",
    "    print ('success')\n",
    "except socket.timeout as e:\n",
    "    print (e)"
   ]
  },
  {
   "cell_type": "code",
   "execution_count": 43,
   "metadata": {},
   "outputs": [
    {
     "name": "stdout",
     "output_type": "stream",
     "text": [
      "b'%R1Q,9081:0,150.0,50.0\\r\\n'\n",
      "b'%R1Q,9081:0,150.0,50.0\\r\\n'\n",
      "b'%R1Q,9081:0,150.0,50.0\\r\\n'\n",
      "b'%R1Q,9081:0,150.0,50.0\\r\\n'\n",
      "b'%R1Q,9081:0,150.0,50.0\\r\\n'\n",
      "success\n"
     ]
    }
   ],
   "source": [
    "import socket\n",
    "import os\n",
    "import time\n",
    "\n",
    "TCP_IP = '192.168.254.3'\n",
    "TCP_PORT = 1212\n",
    "buffer_size = 1024\n",
    "\n",
    "s = socket.socket(socket.AF_INET, socket.SOCK_STREAM)\n",
    "s.settimeout(1)\n",
    "try:\n",
    "    s.connect((TCP_IP, TCP_PORT))\n",
    "    for i in range(1,500,100):\n",
    "        command = b'%R1Q,9081:0,150.0,50.0\\r\\n'\n",
    "        print(command)\n",
    "        s.send(command)\n",
    "        time.sleep(10)\n",
    "    #print(s.recv(4096))\n",
    "    s.close()\n",
    "    print (\"success\")\n",
    "except socket.timeout as e:\n",
    "   print(e)\n"
   ]
  },
  {
   "cell_type": "code",
   "execution_count": 45,
   "metadata": {},
   "outputs": [
    {
     "name": "stdout",
     "output_type": "stream",
     "text": [
      "b'%R1Q,9081:0,150.0,50.0\\r\\n'\n",
      "recived data =  %R1P,0,0:0\n",
      "\n",
      "b'%R1Q,9081:0,150.0,50.0\\r\\n'\n",
      "recived data =  %R1P,0,0:0\n",
      "\n",
      "b'%R1Q,9081:0,150.0,50.0\\r\\n'\n",
      "recived data =  %R1P,0,0:0\n",
      "\n",
      "b'%R1Q,9081:0,150.0,50.0\\r\\n'\n",
      "recived data =  %R1P,0,0:0\n",
      "\n",
      "b'%R1Q,9081:0,150.0,50.0\\r\\n'\n",
      "recived data =  %R1P,0,0:0\n",
      "\n",
      "success\n"
     ]
    }
   ],
   "source": [
    "import socket\n",
    "import os\n",
    "import time\n",
    "\n",
    "TCP_IP = '192.168.254.3'\n",
    "TCP_PORT = 1212\n",
    "buffer_size = 1024\n",
    "\n",
    "s = socket.socket(socket.AF_INET, socket.SOCK_STREAM)\n",
    "s.settimeout(2)\n",
    "try:\n",
    "    s.connect((TCP_IP, TCP_PORT))\n",
    "    for i in range(1,500,100):\n",
    "        command = '%R1Q,9081:0,150.0,50.0\\r\\n'\n",
    "        command = str.encode(command)\n",
    "        print(command)\n",
    "        s.send(command)\n",
    "        data = s.recv(4096)\n",
    "        print ('recived data = ', data.decode() )\n",
    "        time.sleep(10)\n",
    "    #print(s.recv(4096))\n",
    "    s.close()\n",
    "    print (\"success\")\n",
    "except socket.timeout as e:\n",
    "   print(e)\n"
   ]
  },
  {
   "cell_type": "code",
   "execution_count": 68,
   "metadata": {},
   "outputs": [
    {
     "name": "stdout",
     "output_type": "stream",
     "text": [
      "recived data =  %R1P,0,0:0\n",
      "%R1P,0,0:0\n",
      "%R1P,0,0:0\n",
      "\n",
      "recived data =  %R1P,0,0:0,0.399121710467546,1.41798188279567,2.9276,2\n",
      "%R1P,0,0:0\n",
      "\n",
      "recived data =  %R1P,0,0:0,0.276301796033878,1.336572935089447,2.7494,2\n",
      "%R1P,0,0:0\n",
      "\n",
      "recived data =  %R1P,0,0:0,0.150645289613182,1.255791400417009,2.648,2\n",
      "%R1P,0,0:0\n",
      "\n",
      "recived data =  %R1P,0,0:0,0.021158866894939,1.175666068896629,2.6131,2\n",
      "%R1P,0,0:0\n",
      "\n",
      "success\n"
     ]
    }
   ],
   "source": [
    "import socket\n",
    "import os\n",
    "import time\n",
    "\n",
    "TCP_IP = '192.168.254.3'\n",
    "TCP_PORT = 1212\n",
    "buffer_size = 1024\n",
    "\n",
    "s = socket.socket(socket.AF_INET, socket.SOCK_STREAM)\n",
    "s.settimeout(5)\n",
    "arr=[]\n",
    "try:\n",
    "    s.connect((TCP_IP, TCP_PORT))\n",
    "    #set target\n",
    "    s.send(b'%R1Q,9027:0.52,1.5,0,0,0\\r\\n')\n",
    "    s.send(b'%R1Q,17021:1\\r\\n')\n",
    "    for i in range(1,500,100):\n",
    "        time.sleep(1)\n",
    "        #move\n",
    "        command = '%R1Q,9081:0,150.0,200.0\\r\\n'\n",
    "        command = str.encode(command)\n",
    "        s.send(command)\n",
    "        time.sleep(2)\n",
    "        #measure\n",
    "        command = '%R1Q,17017:2\\r\\n'\n",
    "        command = str.encode(command)\n",
    "        s.send(command)\n",
    "        #record measurement\n",
    "        data = s.recv(4096)\n",
    "        print ('recived data = ', data.decode() )\n",
    "        time.sleep(2)\n",
    "        arr.append(data)\n",
    "    #print(s.recv(4096))\n",
    "    s.close()\n",
    "    print (\"success\")\n",
    "except socket.timeout as e:\n",
    "   print(e)\n"
   ]
  },
  {
   "cell_type": "code",
   "execution_count": 69,
   "metadata": {},
   "outputs": [
    {
     "data": {
      "text/plain": [
       "[b'%R1P,0,0:0\\r\\n%R1P,0,0:0\\r\\n%R1P,0,0:0\\r\\n',\n",
       " b'%R1P,0,0:0,0.399121710467546,1.41798188279567,2.9276,2\\r\\n%R1P,0,0:0\\r\\n',\n",
       " b'%R1P,0,0:0,0.276301796033878,1.336572935089447,2.7494,2\\r\\n%R1P,0,0:0\\r\\n',\n",
       " b'%R1P,0,0:0,0.150645289613182,1.255791400417009,2.648,2\\r\\n%R1P,0,0:0\\r\\n',\n",
       " b'%R1P,0,0:0,0.021158866894939,1.175666068896629,2.6131,2\\r\\n%R1P,0,0:0\\r\\n']"
      ]
     },
     "execution_count": 69,
     "metadata": {},
     "output_type": "execute_result"
    }
   ],
   "source": [
    "arr"
   ]
  },
  {
   "cell_type": "code",
   "execution_count": 75,
   "metadata": {},
   "outputs": [
    {
     "name": "stdout",
     "output_type": "stream",
     "text": [
      "success\n"
     ]
    }
   ],
   "source": [
    "#video streem from leica\n",
    "#rtsp://192.168.254.3/TSCam\n",
    "import socket\n",
    "import os\n",
    "import time\n",
    "\n",
    "TCP_IP = '192.168.254.3'\n",
    "TCP_PORT = 1212\n",
    "buffer_size = 1024\n",
    "\n",
    "s = socket.socket(socket.AF_INET, socket.SOCK_STREAM)\n",
    "s.settimeout(1)\n",
    "try:\n",
    "    s.connect((TCP_IP, TCP_PORT))\n",
    "    #turn off    \n",
    "    #command = b'%R1Q,23676:\\r\\n'\n",
    "    #turn on\n",
    "    command = b'%R1Q,23675:0,5,6144\\r\\n'\n",
    "    s.send(command)\n",
    "    #move\n",
    "    command = b'%R1Q,9081:0,150.0,50.0\\r\\n'\n",
    "    s.send(command)\n",
    "    s.close()\n",
    "    print (\"success\")\n",
    "except socket.timeout as e:\n",
    "   print(e)"
   ]
  },
  {
   "cell_type": "code",
   "execution_count": null,
   "metadata": {},
   "outputs": [],
   "source": []
  },
  {
   "cell_type": "code",
   "execution_count": null,
   "metadata": {},
   "outputs": [],
   "source": []
  }
 ],
 "metadata": {
  "kernelspec": {
   "display_name": "Python 3",
   "language": "python",
   "name": "python3"
  },
  "language_info": {
   "codemirror_mode": {
    "name": "ipython",
    "version": 3
   },
   "file_extension": ".py",
   "mimetype": "text/x-python",
   "name": "python",
   "nbconvert_exporter": "python",
   "pygments_lexer": "ipython3",
   "version": "3.6.5"
  }
 },
 "nbformat": 4,
 "nbformat_minor": 2
}
